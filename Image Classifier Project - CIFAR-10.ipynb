{
 "cells": [
  {
   "cell_type": "markdown",
   "metadata": {},
   "source": [
    "# Introduction\n",
    "\n",
    "In this project, you will build a neural network of your own design to evaluate the CIFAR-10 dataset.\n",
    "\n",
    "To meet the requirements for this project, you will need to achieve an accuracy greater than 45%. \n",
    "If you want to beat Detectocorp's algorithm, you'll need to achieve an accuracy greater than 70%. \n",
    "(Beating Detectocorp's algorithm is not a requirement for passing this project, but you're encouraged to try!)\n",
    "\n",
    "Some of the benchmark results on CIFAR-10 include:\n",
    "\n",
    "78.9% Accuracy | [Deep Belief Networks; Krizhevsky, 2010](https://www.cs.toronto.edu/~kriz/conv-cifar10-aug2010.pdf)\n",
    "\n",
    "90.6% Accuracy | [Maxout Networks; Goodfellow et al., 2013](https://arxiv.org/pdf/1302.4389.pdf)\n",
    "\n",
    "96.0% Accuracy | [Wide Residual Networks; Zagoruyko et al., 2016](https://arxiv.org/pdf/1605.07146.pdf)\n",
    "\n",
    "99.0% Accuracy | [GPipe; Huang et al., 2018](https://arxiv.org/pdf/1811.06965.pdf)\n",
    "\n",
    "98.5% Accuracy | [Rethinking Recurrent Neural Networks and other Improvements for ImageClassification; Nguyen et al., 2020](https://arxiv.org/pdf/2007.15161.pdf)\n",
    "\n",
    "Research with this dataset is ongoing. Notably, many of these networks are quite large and quite expensive to train. \n",
    "\n",
    "## Imports"
   ]
  },
  {
   "cell_type": "code",
   "execution_count": 1,
   "metadata": {},
   "outputs": [],
   "source": [
    "import torch\n",
    "import torch.nn as nn\n",
    "import torch.nn.functional as F\n",
    "import torch.optim as optim\n",
    "import torchvision\n",
    "import torchvision.transforms as transforms\n",
    "import matplotlib.pyplot as plt\n",
    "import numpy as np\n",
    "import pandas as pd\n",
    "from collections import OrderedDict\n",
    "from tqdm import tqdm\n",
    "import time\n",
    "from datetime import timedelta"
   ]
  },
  {
   "cell_type": "markdown",
   "metadata": {},
   "source": [
    "## Load the Dataset"
   ]
  },
  {
   "cell_type": "markdown",
   "metadata": {},
   "source": [
    "We'll start loading the training data set and use it to compute the mean and std across the channels. These values will be used in our transform step."
   ]
  },
  {
   "cell_type": "code",
   "execution_count": 2,
   "metadata": {},
   "outputs": [
    {
     "name": "stdout",
     "output_type": "stream",
     "text": [
      "Files already downloaded and verified\n"
     ]
    }
   ],
   "source": [
    "train_imgs = torchvision.datasets.CIFAR10(root='./data',train=True,download=True)\n",
    "train_imgs = train_imgs.data/255"
   ]
  },
  {
   "cell_type": "code",
   "execution_count": 3,
   "metadata": {},
   "outputs": [
    {
     "data": {
      "text/plain": [
       "(array([0.49139968, 0.48215841, 0.44653091]),\n",
       " array([0.24703223, 0.24348513, 0.26158784]))"
      ]
     },
     "execution_count": 3,
     "metadata": {},
     "output_type": "execute_result"
    }
   ],
   "source": [
    "means = train_imgs.mean(axis=(0,1,2))\n",
    "stds  = train_imgs.std(axis=(0,1,2))\n",
    "means, stds"
   ]
  },
  {
   "cell_type": "markdown",
   "metadata": {},
   "source": [
    "We'll then create the tramsforms and load train and validation data."
   ]
  },
  {
   "cell_type": "code",
   "execution_count": 4,
   "metadata": {},
   "outputs": [],
   "source": [
    "train_transforms = transforms.Compose([transforms.RandomRotation(15),\n",
    "                                       transforms.RandomCrop(32,padding=4),\n",
    "                                       transforms.RandomHorizontalFlip(),\n",
    "                                       transforms.ColorJitter(),\n",
    "                                       transforms.ToTensor(),\n",
    "                                       transforms.Normalize(means,stds)])\n",
    "\n",
    "valid_transforms = transforms.Compose([transforms.ToTensor(),\n",
    "                                       transforms.Normalize(means,stds)])"
   ]
  },
  {
   "cell_type": "markdown",
   "metadata": {},
   "source": [
    "Next, we will load the datasets and apply the transformation."
   ]
  },
  {
   "cell_type": "code",
   "execution_count": 5,
   "metadata": {},
   "outputs": [
    {
     "name": "stdout",
     "output_type": "stream",
     "text": [
      "Files already downloaded and verified\n",
      "Files already downloaded and verified\n"
     ]
    }
   ],
   "source": [
    "train_data = torchvision.datasets.CIFAR10(root='./data',train=True, download=True,transform=train_transforms)\n",
    "valid_data = torchvision.datasets.CIFAR10(root='./data',train=False,download=True,transform=valid_transforms)"
   ]
  },
  {
   "cell_type": "markdown",
   "metadata": {},
   "source": [
    "Finally, we create proper dataloaders to be used later."
   ]
  },
  {
   "cell_type": "code",
   "execution_count": 6,
   "metadata": {},
   "outputs": [],
   "source": [
    "trainloader = torch.utils.data.DataLoader(train_data, batch_size=64, shuffle=True)\n",
    "validloader = torch.utils.data.DataLoader(valid_data, batch_size=64)"
   ]
  },
  {
   "cell_type": "code",
   "execution_count": 7,
   "metadata": {},
   "outputs": [],
   "source": [
    "classes = ('plane', 'car', 'bird', 'cat', 'deer', 'dog', 'frog', 'horse', 'ship', 'truck')"
   ]
  },
  {
   "cell_type": "markdown",
   "metadata": {},
   "source": [
    "## Exploring the Dataset"
   ]
  },
  {
   "cell_type": "markdown",
   "metadata": {},
   "source": [
    "We will use the prebuilt (but modified) function called show5 to see a sample of the data."
   ]
  },
  {
   "cell_type": "code",
   "execution_count": 8,
   "metadata": {},
   "outputs": [],
   "source": [
    "def show5(img_loader,means=None,stds=None):\n",
    "    dataiter = iter(img_loader)\n",
    "    \n",
    "    batch = next(dataiter)\n",
    "    labels = batch[1][0:5]\n",
    "    images = batch[0][0:5]\n",
    "    \n",
    "    if means is not None:\n",
    "        images = images * stds[:, None, None] + means[:, None, None]\n",
    "    \n",
    "    for i in range(5):\n",
    "        print(classes[labels[i]])\n",
    "    \n",
    "        image = images[i].numpy()\n",
    "        plt.imshow(np.rot90(image.T, k=3))\n",
    "        plt.show()"
   ]
  },
  {
   "cell_type": "code",
   "execution_count": 9,
   "metadata": {},
   "outputs": [
    {
     "name": "stderr",
     "output_type": "stream",
     "text": [
      "Clipping input data to the valid range for imshow with RGB data ([0..1] for floats or [0..255] for integers).\n"
     ]
    },
    {
     "name": "stdout",
     "output_type": "stream",
     "text": [
      "cat\n"
     ]
    },
    {
     "data": {
      "image/png": "[encoded data removed]",
      "text/plain": [
       "<Figure size 640x480 with 1 Axes>"
      ]
     },
     "metadata": {},
     "output_type": "display_data"
    },
    {
     "name": "stderr",
     "output_type": "stream",
     "text": [
      "Clipping input data to the valid range for imshow with RGB data ([0..1] for floats or [0..255] for integers).\n"
     ]
    },
    {
     "name": "stdout",
     "output_type": "stream",
     "text": [
      "ship\n"
     ]
    },
    {
     "data": {
      "image/png": "[encoded data removed]",
      "text/plain": [
       "<Figure size 640x480 with 1 Axes>"
      ]
     },
     "metadata": {},
     "output_type": "display_data"
    },
    {
     "name": "stdout",
     "output_type": "stream",
     "text": [
      "ship\n"
     ]
    },
    {
     "data": {
      "image/png": "[encoded data removed]",
      "text/plain": [
       "<Figure size 640x480 with 1 Axes>"
      ]
     },
     "metadata": {},
     "output_type": "display_data"
    },
    {
     "name": "stdout",
     "output_type": "stream",
     "text": [
      "plane\n"
     ]
    },
    {
     "data": {
      "image/png": "[encoded data removed]",
      "text/plain": [
       "<Figure size 640x480 with 1 Axes>"
      ]
     },
     "metadata": {},
     "output_type": "display_data"
    },
    {
     "name": "stdout",
     "output_type": "stream",
     "text": [
      "frog\n"
     ]
    },
    {
     "data": {
      "image/png": "[encoded data removed]",
      "text/plain": [
       "<Figure size 640x480 with 1 Axes>"
      ]
     },
     "metadata": {},
     "output_type": "display_data"
    }
   ],
   "source": [
    "show5(validloader,means,stds)"
   ]
  },
  {
   "cell_type": "markdown",
   "metadata": {},
   "source": [
    "## Building the Network"
   ]
  },
  {
   "cell_type": "markdown",
   "metadata": {},
   "source": [
    "Below I create my network. I start from a LeNet-style architecture using the standard 32x32 image size. \n",
    "However, I add some additional steps to improve the architecture. I add BatchNorm for stabilization after the convolutional layers, as well as Dropout for regularization after the linear layers. Finally, I add non linear activation after each step."
   ]
  },
  {
   "cell_type": "code",
   "execution_count": 10,
   "metadata": {},
   "outputs": [
    {
     "data": {
      "text/plain": [
       "Sequential(\n",
       "  (conv1): Conv2d(3, 16, kernel_size=(5, 5), stride=(1, 1))\n",
       "  (bn1): BatchNorm2d(16, eps=1e-05, momentum=0.1, affine=True, track_running_stats=True)\n",
       "  (relu1): ReLU()\n",
       "  (pool1): MaxPool2d(kernel_size=2, stride=2, padding=0, dilation=1, ceil_mode=False)\n",
       "  (conv2): Conv2d(16, 32, kernel_size=(5, 5), stride=(1, 1))\n",
       "  (bn2): BatchNorm2d(32, eps=1e-05, momentum=0.1, affine=True, track_running_stats=True)\n",
       "  (relu2): ReLU()\n",
       "  (pool2): MaxPool2d(kernel_size=2, stride=2, padding=0, dilation=1, ceil_mode=False)\n",
       "  (conv3): Conv2d(32, 64, kernel_size=(3, 3), stride=(1, 1))\n",
       "  (bn3): BatchNorm2d(64, eps=1e-05, momentum=0.1, affine=True, track_running_stats=True)\n",
       "  (relu3): ReLU()\n",
       "  (pool3): MaxPool2d(kernel_size=2, stride=2, padding=0, dilation=1, ceil_mode=False)\n",
       "  (flatten): Flatten(start_dim=1, end_dim=-1)\n",
       "  (fc1): Linear(in_features=64, out_features=128, bias=True)\n",
       "  (dropout1): Dropout(p=0.5, inplace=False)\n",
       "  (fc2): Linear(in_features=128, out_features=128, bias=True)\n",
       "  (relu4): ReLU()\n",
       "  (dropout2): Dropout(p=0.5, inplace=False)\n",
       "  (fc3): Linear(in_features=128, out_features=10, bias=True)\n",
       "  (output): LogSoftmax(dim=1)\n",
       ")"
      ]
     },
     "execution_count": 10,
     "metadata": {},
     "output_type": "execute_result"
    }
   ],
   "source": [
    "nnetwork = nn.Sequential(OrderedDict([\n",
    "                        ('conv1',nn.Conv2d(3,16,5)),\n",
    "                        ('bn1', nn.BatchNorm2d(16)),\n",
    "                        ('relu1',nn.ReLU()),\n",
    "                        ('pool1',nn.MaxPool2d(2,2)),\n",
    "                        ('conv2',nn.Conv2d(16,32,5)),\n",
    "                        ('bn2', nn.BatchNorm2d(32)),\n",
    "                        ('relu2',nn.ReLU()),\n",
    "                        ('pool2',nn.MaxPool2d(2,2)),\n",
    "                        ('conv3', nn.Conv2d(32,64,3)),\n",
    "                        ('bn3', nn.BatchNorm2d(64)),\n",
    "                        ('relu3', nn.ReLU()),\n",
    "                        ('pool3', nn.MaxPool2d(2,2)),\n",
    "                        ('flatten',nn.Flatten()),\n",
    "                        ('fc1',nn.Linear(64,128)),\n",
    "                        ('relu3',nn.ReLU()),\n",
    "                        ('dropout1',nn.Dropout(0.5)),\n",
    "                        ('fc2',nn.Linear(128,128)),\n",
    "                        ('relu4',nn.ReLU()),\n",
    "                        ('dropout2',nn.Dropout(0.5)),\n",
    "                        ('fc3', nn.Linear(128,10)),\n",
    "                        ('output', nn.LogSoftmax(dim=1))]))\n",
    "\n",
    "nnetwork"
   ]
  },
  {
   "cell_type": "markdown",
   "metadata": {},
   "source": [
    "I will also use an accelerator for training. Below we check if GPU is available and if so bring over the model."
   ]
  },
  {
   "cell_type": "code",
   "execution_count": 11,
   "metadata": {},
   "outputs": [
    {
     "name": "stdout",
     "output_type": "stream",
     "text": [
      "We are working on CUDA.\n"
     ]
    }
   ],
   "source": [
    "device = 'cpu'\n",
    "if torch.cuda.is_available():\n",
    "    device = 'cuda'\n",
    "nnetwork.to(device); # Send the model to cpu or cuda accordingly\n",
    "print('We are working on {}.'.format(device.upper()))"
   ]
  },
  {
   "cell_type": "markdown",
   "metadata": {},
   "source": [
    "Then, I initiate the criterion and the optimizer, including a schedule to reduce the learning rate as we progress through the epochs."
   ]
  },
  {
   "cell_type": "code",
   "execution_count": 12,
   "metadata": {},
   "outputs": [],
   "source": [
    "criterion = nn.NLLLoss()\n",
    "optimizer = optim.Adam(nnetwork.parameters(), lr=0.003)\n",
    "scheduler = optim.lr_scheduler.StepLR(optimizer,step_size=10,gamma=0.1)"
   ]
  },
  {
   "cell_type": "code",
   "execution_count": 13,
   "metadata": {},
   "outputs": [],
   "source": [
    "model_path = pd.DataFrame(columns=['Epoch','Steps','Train Loss','Validation Loss','Validation Accuracy'])"
   ]
  },
  {
   "cell_type": "markdown",
   "metadata": {},
   "source": [
    "Now, we are ready to train the model."
   ]
  },
  {
   "cell_type": "code",
   "execution_count": 14,
   "metadata": {
    "scrolled": false
   },
   "outputs": [
    {
     "name": "stderr",
     "output_type": "stream",
     "text": [
      " 32%|███▏      | 252/782 [00:17<02:40,  3.30it/s]"
     ]
    },
    {
     "name": "stdout",
     "output_type": "stream",
     "text": [
      "Epoch: 1/30  |  Steps: 250/782  |  Train Loss: 0.615  |  Validation Loss: 136.332  |  Validation Accuracy: 37.50\n"
     ]
    },
    {
     "name": "stderr",
     "output_type": "stream",
     "text": [
      " 64%|██████▍   | 503/782 [00:32<01:05,  4.23it/s]"
     ]
    },
    {
     "name": "stdout",
     "output_type": "stream",
     "text": [
      "Epoch: 1/30  |  Steps: 500/782  |  Train Loss: 1.166  |  Validation Loss: 117.412  |  Validation Accuracy: 45.50\n"
     ]
    },
    {
     "name": "stderr",
     "output_type": "stream",
     "text": [
      " 96%|█████████▋| 754/782 [00:46<00:06,  4.28it/s]"
     ]
    },
    {
     "name": "stdout",
     "output_type": "stream",
     "text": [
      "Epoch: 1/30  |  Steps: 750/782  |  Train Loss: 1.680  |  Validation Loss: 111.527  |  Validation Accuracy: 47.98\n"
     ]
    },
    {
     "name": "stderr",
     "output_type": "stream",
     "text": [
      "100%|██████████| 782/782 [00:48<00:00, 16.12it/s]\n",
      " 32%|███▏      | 252/782 [00:14<02:46,  3.17it/s]"
     ]
    },
    {
     "name": "stdout",
     "output_type": "stream",
     "text": [
      "Epoch: 2/30  |  Steps: 250/782  |  Train Loss: 0.496  |  Validation Loss: 107.606  |  Validation Accuracy: 49.90\n"
     ]
    },
    {
     "name": "stderr",
     "output_type": "stream",
     "text": [
      " 64%|██████▍   | 504/782 [00:29<01:05,  4.27it/s]"
     ]
    },
    {
     "name": "stdout",
     "output_type": "stream",
     "text": [
      "Epoch: 2/30  |  Steps: 500/782  |  Train Loss: 0.981  |  Validation Loss: 106.851  |  Validation Accuracy: 51.72\n"
     ]
    },
    {
     "name": "stderr",
     "output_type": "stream",
     "text": [
      " 96%|█████████▌| 752/782 [00:43<00:09,  3.10it/s]"
     ]
    },
    {
     "name": "stdout",
     "output_type": "stream",
     "text": [
      "Epoch: 2/30  |  Steps: 750/782  |  Train Loss: 1.454  |  Validation Loss: 102.652  |  Validation Accuracy: 53.24\n"
     ]
    },
    {
     "name": "stderr",
     "output_type": "stream",
     "text": [
      "100%|██████████| 782/782 [00:45<00:00, 17.19it/s]\n",
      " 32%|███▏      | 253/782 [00:14<02:04,  4.26it/s]"
     ]
    },
    {
     "name": "stdout",
     "output_type": "stream",
     "text": [
      "Epoch: 3/30  |  Steps: 250/782  |  Train Loss: 0.459  |  Validation Loss: 100.681  |  Validation Accuracy: 52.86\n"
     ]
    },
    {
     "name": "stderr",
     "output_type": "stream",
     "text": [
      " 64%|██████▍   | 502/782 [00:29<01:28,  3.17it/s]"
     ]
    },
    {
     "name": "stdout",
     "output_type": "stream",
     "text": [
      "Epoch: 3/30  |  Steps: 500/782  |  Train Loss: 0.913  |  Validation Loss: 100.966  |  Validation Accuracy: 55.47\n"
     ]
    },
    {
     "name": "stderr",
     "output_type": "stream",
     "text": [
      " 96%|█████████▋| 754/782 [00:43<00:06,  4.24it/s]"
     ]
    },
    {
     "name": "stdout",
     "output_type": "stream",
     "text": [
      "Epoch: 3/30  |  Steps: 750/782  |  Train Loss: 1.359  |  Validation Loss: 93.912  |  Validation Accuracy: 57.51\n"
     ]
    },
    {
     "name": "stderr",
     "output_type": "stream",
     "text": [
      "100%|██████████| 782/782 [00:45<00:00, 17.23it/s]\n",
      " 32%|███▏      | 253/782 [00:14<02:17,  3.86it/s]"
     ]
    },
    {
     "name": "stdout",
     "output_type": "stream",
     "text": [
      "Epoch: 4/30  |  Steps: 250/782  |  Train Loss: 0.439  |  Validation Loss: 93.800  |  Validation Accuracy: 57.53\n"
     ]
    },
    {
     "name": "stderr",
     "output_type": "stream",
     "text": [
      " 64%|██████▍   | 502/782 [00:29<01:27,  3.19it/s]"
     ]
    },
    {
     "name": "stdout",
     "output_type": "stream",
     "text": [
      "Epoch: 4/30  |  Steps: 500/782  |  Train Loss: 0.877  |  Validation Loss: 91.167  |  Validation Accuracy: 58.52\n"
     ]
    },
    {
     "name": "stderr",
     "output_type": "stream",
     "text": [
      " 96%|█████████▋| 754/782 [00:43<00:06,  4.25it/s]"
     ]
    },
    {
     "name": "stdout",
     "output_type": "stream",
     "text": [
      "Epoch: 4/30  |  Steps: 750/782  |  Train Loss: 1.312  |  Validation Loss: 90.268  |  Validation Accuracy: 59.32\n"
     ]
    },
    {
     "name": "stderr",
     "output_type": "stream",
     "text": [
      "100%|██████████| 782/782 [00:45<00:00, 17.26it/s]\n",
      " 32%|███▏      | 252/782 [00:14<02:46,  3.19it/s]"
     ]
    },
    {
     "name": "stdout",
     "output_type": "stream",
     "text": [
      "Epoch: 5/30  |  Steps: 250/782  |  Train Loss: 0.424  |  Validation Loss: 89.796  |  Validation Accuracy: 59.80\n"
     ]
    },
    {
     "name": "stderr",
     "output_type": "stream",
     "text": [
      " 64%|██████▍   | 502/782 [00:29<01:28,  3.16it/s]"
     ]
    },
    {
     "name": "stdout",
     "output_type": "stream",
     "text": [
      "Epoch: 5/30  |  Steps: 500/782  |  Train Loss: 0.850  |  Validation Loss: 87.446  |  Validation Accuracy: 60.54\n"
     ]
    },
    {
     "name": "stderr",
     "output_type": "stream",
     "text": [
      " 96%|█████████▋| 754/782 [00:43<00:06,  4.32it/s]"
     ]
    },
    {
     "name": "stdout",
     "output_type": "stream",
     "text": [
      "Epoch: 5/30  |  Steps: 750/782  |  Train Loss: 1.276  |  Validation Loss: 87.902  |  Validation Accuracy: 60.16\n"
     ]
    },
    {
     "name": "stderr",
     "output_type": "stream",
     "text": [
      "100%|██████████| 782/782 [00:45<00:00, 17.23it/s]\n",
      " 32%|███▏      | 253/782 [00:14<02:01,  4.36it/s]"
     ]
    },
    {
     "name": "stdout",
     "output_type": "stream",
     "text": [
      "Epoch: 6/30  |  Steps: 250/782  |  Train Loss: 0.413  |  Validation Loss: 87.313  |  Validation Accuracy: 60.81\n"
     ]
    },
    {
     "name": "stderr",
     "output_type": "stream",
     "text": [
      " 64%|██████▍   | 502/782 [00:29<01:26,  3.22it/s]"
     ]
    },
    {
     "name": "stdout",
     "output_type": "stream",
     "text": [
      "Epoch: 6/30  |  Steps: 500/782  |  Train Loss: 0.834  |  Validation Loss: 85.956  |  Validation Accuracy: 60.48\n"
     ]
    },
    {
     "name": "stderr",
     "output_type": "stream",
     "text": [
      " 96%|█████████▋| 754/782 [00:43<00:06,  4.40it/s]"
     ]
    },
    {
     "name": "stdout",
     "output_type": "stream",
     "text": [
      "Epoch: 6/30  |  Steps: 750/782  |  Train Loss: 1.249  |  Validation Loss: 86.900  |  Validation Accuracy: 60.74\n"
     ]
    },
    {
     "name": "stderr",
     "output_type": "stream",
     "text": [
      "100%|██████████| 782/782 [00:44<00:00, 17.38it/s]\n",
      " 32%|███▏      | 253/782 [00:14<02:06,  4.18it/s]"
     ]
    },
    {
     "name": "stdout",
     "output_type": "stream",
     "text": [
      "Epoch: 7/30  |  Steps: 250/782  |  Train Loss: 0.415  |  Validation Loss: 84.724  |  Validation Accuracy: 61.96\n"
     ]
    },
    {
     "name": "stderr",
     "output_type": "stream",
     "text": [
      " 64%|██████▍   | 502/782 [00:29<01:25,  3.26it/s]"
     ]
    },
    {
     "name": "stdout",
     "output_type": "stream",
     "text": [
      "Epoch: 7/30  |  Steps: 500/782  |  Train Loss: 0.826  |  Validation Loss: 84.218  |  Validation Accuracy: 62.60\n"
     ]
    },
    {
     "name": "stderr",
     "output_type": "stream",
     "text": [
      " 96%|█████████▌| 752/782 [00:43<00:10,  2.95it/s]"
     ]
    },
    {
     "name": "stdout",
     "output_type": "stream",
     "text": [
      "Epoch: 7/30  |  Steps: 750/782  |  Train Loss: 1.232  |  Validation Loss: 81.457  |  Validation Accuracy: 63.90\n"
     ]
    },
    {
     "name": "stderr",
     "output_type": "stream",
     "text": [
      "100%|██████████| 782/782 [00:45<00:00, 17.26it/s]\n",
      " 32%|███▏      | 253/782 [00:15<02:06,  4.17it/s]"
     ]
    },
    {
     "name": "stdout",
     "output_type": "stream",
     "text": [
      "Epoch: 8/30  |  Steps: 250/782  |  Train Loss: 0.406  |  Validation Loss: 85.546  |  Validation Accuracy: 61.28\n"
     ]
    },
    {
     "name": "stderr",
     "output_type": "stream",
     "text": [
      " 64%|██████▍   | 503/782 [00:29<01:14,  3.72it/s]"
     ]
    },
    {
     "name": "stdout",
     "output_type": "stream",
     "text": [
      "Epoch: 8/30  |  Steps: 500/782  |  Train Loss: 0.813  |  Validation Loss: 83.749  |  Validation Accuracy: 62.80\n"
     ]
    },
    {
     "name": "stderr",
     "output_type": "stream",
     "text": [
      " 96%|█████████▌| 752/782 [00:44<00:09,  3.01it/s]"
     ]
    },
    {
     "name": "stdout",
     "output_type": "stream",
     "text": [
      "Epoch: 8/30  |  Steps: 750/782  |  Train Loss: 1.213  |  Validation Loss: 82.683  |  Validation Accuracy: 63.43\n"
     ]
    },
    {
     "name": "stderr",
     "output_type": "stream",
     "text": [
      "100%|██████████| 782/782 [00:46<00:00, 16.79it/s]\n",
      " 32%|███▏      | 252/782 [00:15<02:56,  3.00it/s]"
     ]
    },
    {
     "name": "stdout",
     "output_type": "stream",
     "text": [
      "Epoch: 9/30  |  Steps: 250/782  |  Train Loss: 0.401  |  Validation Loss: 81.844  |  Validation Accuracy: 63.53\n"
     ]
    },
    {
     "name": "stderr",
     "output_type": "stream",
     "text": [
      " 64%|██████▍   | 504/782 [00:30<01:09,  3.98it/s]"
     ]
    },
    {
     "name": "stdout",
     "output_type": "stream",
     "text": [
      "Epoch: 9/30  |  Steps: 500/782  |  Train Loss: 0.798  |  Validation Loss: 82.690  |  Validation Accuracy: 63.02\n"
     ]
    },
    {
     "name": "stderr",
     "output_type": "stream",
     "text": [
      " 96%|█████████▋| 753/782 [00:44<00:06,  4.33it/s]"
     ]
    },
    {
     "name": "stdout",
     "output_type": "stream",
     "text": [
      "Epoch: 9/30  |  Steps: 750/782  |  Train Loss: 1.200  |  Validation Loss: 79.870  |  Validation Accuracy: 64.13\n"
     ]
    },
    {
     "name": "stderr",
     "output_type": "stream",
     "text": [
      "100%|██████████| 782/782 [00:45<00:00, 17.00it/s]\n",
      " 32%|███▏      | 253/782 [00:14<02:01,  4.37it/s]"
     ]
    },
    {
     "name": "stdout",
     "output_type": "stream",
     "text": [
      "Epoch: 10/30  |  Steps: 250/782  |  Train Loss: 0.391  |  Validation Loss: 81.259  |  Validation Accuracy: 64.10\n"
     ]
    },
    {
     "name": "stderr",
     "output_type": "stream",
     "text": [
      " 64%|██████▍   | 502/782 [00:28<01:26,  3.22it/s]"
     ]
    },
    {
     "name": "stdout",
     "output_type": "stream",
     "text": [
      "Epoch: 10/30  |  Steps: 500/782  |  Train Loss: 0.784  |  Validation Loss: 81.209  |  Validation Accuracy: 64.76\n"
     ]
    },
    {
     "name": "stderr",
     "output_type": "stream",
     "text": [
      " 96%|█████████▋| 754/782 [00:43<00:06,  4.32it/s]"
     ]
    },
    {
     "name": "stdout",
     "output_type": "stream",
     "text": [
      "Epoch: 10/30  |  Steps: 750/782  |  Train Loss: 1.176  |  Validation Loss: 76.858  |  Validation Accuracy: 65.47\n"
     ]
    },
    {
     "name": "stderr",
     "output_type": "stream",
     "text": [
      "100%|██████████| 782/782 [00:44<00:00, 17.53it/s]\n",
      " 32%|███▏      | 254/782 [00:14<02:01,  4.33it/s]"
     ]
    },
    {
     "name": "stdout",
     "output_type": "stream",
     "text": [
      "Epoch: 11/30  |  Steps: 250/782  |  Train Loss: 0.385  |  Validation Loss: 77.926  |  Validation Accuracy: 65.66\n"
     ]
    },
    {
     "name": "stderr",
     "output_type": "stream",
     "text": [
      " 64%|██████▍   | 504/782 [00:28<01:03,  4.37it/s]"
     ]
    },
    {
     "name": "stdout",
     "output_type": "stream",
     "text": [
      "Epoch: 11/30  |  Steps: 500/782  |  Train Loss: 0.777  |  Validation Loss: 81.309  |  Validation Accuracy: 64.52\n"
     ]
    },
    {
     "name": "stderr",
     "output_type": "stream",
     "text": [
      " 96%|█████████▋| 753/782 [00:43<00:06,  4.26it/s]"
     ]
    },
    {
     "name": "stdout",
     "output_type": "stream",
     "text": [
      "Epoch: 11/30  |  Steps: 750/782  |  Train Loss: 1.167  |  Validation Loss: 78.576  |  Validation Accuracy: 65.62\n"
     ]
    },
    {
     "name": "stderr",
     "output_type": "stream",
     "text": [
      "100%|██████████| 782/782 [00:44<00:00, 17.53it/s]\n",
      " 32%|███▏      | 253/782 [00:14<02:04,  4.26it/s]"
     ]
    },
    {
     "name": "stdout",
     "output_type": "stream",
     "text": [
      "Epoch: 12/30  |  Steps: 250/782  |  Train Loss: 0.384  |  Validation Loss: 77.178  |  Validation Accuracy: 65.97\n"
     ]
    },
    {
     "name": "stderr",
     "output_type": "stream",
     "text": [
      " 64%|██████▍   | 504/782 [00:29<01:04,  4.31it/s]"
     ]
    },
    {
     "name": "stdout",
     "output_type": "stream",
     "text": [
      "Epoch: 12/30  |  Steps: 500/782  |  Train Loss: 0.770  |  Validation Loss: 76.520  |  Validation Accuracy: 66.07\n"
     ]
    },
    {
     "name": "stderr",
     "output_type": "stream",
     "text": [
      " 96%|█████████▋| 753/782 [00:43<00:06,  4.34it/s]"
     ]
    },
    {
     "name": "stdout",
     "output_type": "stream",
     "text": [
      "Epoch: 12/30  |  Steps: 750/782  |  Train Loss: 1.155  |  Validation Loss: 78.129  |  Validation Accuracy: 65.75\n"
     ]
    },
    {
     "name": "stderr",
     "output_type": "stream",
     "text": [
      "100%|██████████| 782/782 [00:44<00:00, 17.46it/s]\n",
      " 32%|███▏      | 253/782 [00:14<02:01,  4.35it/s]"
     ]
    },
    {
     "name": "stdout",
     "output_type": "stream",
     "text": [
      "Epoch: 13/30  |  Steps: 250/782  |  Train Loss: 0.381  |  Validation Loss: 77.641  |  Validation Accuracy: 65.71\n"
     ]
    },
    {
     "name": "stderr",
     "output_type": "stream",
     "text": [
      " 64%|██████▍   | 502/782 [00:28<01:25,  3.27it/s]"
     ]
    },
    {
     "name": "stdout",
     "output_type": "stream",
     "text": [
      "Epoch: 13/30  |  Steps: 500/782  |  Train Loss: 0.761  |  Validation Loss: 77.349  |  Validation Accuracy: 66.39\n"
     ]
    },
    {
     "name": "stderr",
     "output_type": "stream",
     "text": [
      " 96%|█████████▋| 754/782 [00:42<00:06,  4.34it/s]"
     ]
    },
    {
     "name": "stdout",
     "output_type": "stream",
     "text": [
      "Epoch: 13/30  |  Steps: 750/782  |  Train Loss: 1.141  |  Validation Loss: 74.838  |  Validation Accuracy: 66.75\n"
     ]
    },
    {
     "name": "stderr",
     "output_type": "stream",
     "text": [
      "100%|██████████| 782/782 [00:44<00:00, 17.61it/s]\n",
      " 32%|███▏      | 254/782 [00:14<02:13,  3.95it/s]"
     ]
    },
    {
     "name": "stdout",
     "output_type": "stream",
     "text": [
      "Epoch: 14/30  |  Steps: 250/782  |  Train Loss: 0.377  |  Validation Loss: 77.717  |  Validation Accuracy: 66.07\n"
     ]
    },
    {
     "name": "stderr",
     "output_type": "stream",
     "text": [
      " 64%|██████▍   | 503/782 [00:28<01:04,  4.32it/s]"
     ]
    },
    {
     "name": "stdout",
     "output_type": "stream",
     "text": [
      "Epoch: 14/30  |  Steps: 500/782  |  Train Loss: 0.755  |  Validation Loss: 74.414  |  Validation Accuracy: 67.43\n"
     ]
    },
    {
     "name": "stderr",
     "output_type": "stream",
     "text": [
      " 96%|█████████▋| 754/782 [00:43<00:07,  3.99it/s]"
     ]
    },
    {
     "name": "stdout",
     "output_type": "stream",
     "text": [
      "Epoch: 14/30  |  Steps: 750/782  |  Train Loss: 1.132  |  Validation Loss: 76.959  |  Validation Accuracy: 66.12\n"
     ]
    },
    {
     "name": "stderr",
     "output_type": "stream",
     "text": [
      "100%|██████████| 782/782 [00:44<00:00, 17.49it/s]\n",
      " 32%|███▏      | 252/782 [00:14<02:43,  3.24it/s]"
     ]
    },
    {
     "name": "stdout",
     "output_type": "stream",
     "text": [
      "Epoch: 15/30  |  Steps: 250/782  |  Train Loss: 0.376  |  Validation Loss: 78.139  |  Validation Accuracy: 65.57\n"
     ]
    },
    {
     "name": "stderr",
     "output_type": "stream",
     "text": [
      " 64%|██████▍   | 503/782 [00:29<01:06,  4.23it/s]"
     ]
    },
    {
     "name": "stdout",
     "output_type": "stream",
     "text": [
      "Epoch: 15/30  |  Steps: 500/782  |  Train Loss: 0.754  |  Validation Loss: 74.377  |  Validation Accuracy: 67.68\n"
     ]
    },
    {
     "name": "stderr",
     "output_type": "stream",
     "text": [
      " 96%|█████████▌| 752/782 [00:43<00:09,  3.15it/s]"
     ]
    },
    {
     "name": "stdout",
     "output_type": "stream",
     "text": [
      "Epoch: 15/30  |  Steps: 750/782  |  Train Loss: 1.134  |  Validation Loss: 78.551  |  Validation Accuracy: 65.43\n"
     ]
    },
    {
     "name": "stderr",
     "output_type": "stream",
     "text": [
      "100%|██████████| 782/782 [00:45<00:00, 17.30it/s]\n",
      " 32%|███▏      | 252/782 [00:14<02:49,  3.13it/s]"
     ]
    },
    {
     "name": "stdout",
     "output_type": "stream",
     "text": [
      "Epoch: 16/30  |  Steps: 250/782  |  Train Loss: 0.369  |  Validation Loss: 75.632  |  Validation Accuracy: 66.97\n"
     ]
    },
    {
     "name": "stderr",
     "output_type": "stream",
     "text": [
      " 64%|██████▍   | 504/782 [00:29<01:07,  4.11it/s]"
     ]
    },
    {
     "name": "stdout",
     "output_type": "stream",
     "text": [
      "Epoch: 16/30  |  Steps: 500/782  |  Train Loss: 0.738  |  Validation Loss: 72.599  |  Validation Accuracy: 68.20\n"
     ]
    },
    {
     "name": "stderr",
     "output_type": "stream",
     "text": [
      " 96%|█████████▋| 753/782 [00:44<00:07,  3.75it/s]"
     ]
    },
    {
     "name": "stdout",
     "output_type": "stream",
     "text": [
      "Epoch: 16/30  |  Steps: 750/782  |  Train Loss: 1.113  |  Validation Loss: 73.342  |  Validation Accuracy: 68.17\n"
     ]
    },
    {
     "name": "stderr",
     "output_type": "stream",
     "text": [
      "100%|██████████| 782/782 [00:46<00:00, 16.85it/s]\n",
      " 32%|███▏      | 254/782 [00:16<02:12,  3.99it/s]"
     ]
    },
    {
     "name": "stdout",
     "output_type": "stream",
     "text": [
      "Epoch: 17/30  |  Steps: 250/782  |  Train Loss: 0.368  |  Validation Loss: 73.320  |  Validation Accuracy: 67.72\n"
     ]
    },
    {
     "name": "stderr",
     "output_type": "stream",
     "text": [
      " 64%|██████▍   | 503/782 [00:31<01:07,  4.11it/s]"
     ]
    },
    {
     "name": "stdout",
     "output_type": "stream",
     "text": [
      "Epoch: 17/30  |  Steps: 500/782  |  Train Loss: 0.737  |  Validation Loss: 73.100  |  Validation Accuracy: 67.97\n"
     ]
    },
    {
     "name": "stderr",
     "output_type": "stream",
     "text": [
      " 96%|█████████▋| 753/782 [00:46<00:09,  2.98it/s]"
     ]
    },
    {
     "name": "stdout",
     "output_type": "stream",
     "text": [
      "Epoch: 17/30  |  Steps: 750/782  |  Train Loss: 1.112  |  Validation Loss: 73.902  |  Validation Accuracy: 67.65\n"
     ]
    },
    {
     "name": "stderr",
     "output_type": "stream",
     "text": [
      "100%|██████████| 782/782 [00:48<00:00, 16.23it/s]\n",
      " 32%|███▏      | 254/782 [00:15<02:04,  4.23it/s]"
     ]
    },
    {
     "name": "stdout",
     "output_type": "stream",
     "text": [
      "Epoch: 18/30  |  Steps: 250/782  |  Train Loss: 0.369  |  Validation Loss: 73.932  |  Validation Accuracy: 67.28\n"
     ]
    },
    {
     "name": "stderr",
     "output_type": "stream",
     "text": [
      " 64%|██████▍   | 502/782 [00:29<01:28,  3.16it/s]"
     ]
    },
    {
     "name": "stdout",
     "output_type": "stream",
     "text": [
      "Epoch: 18/30  |  Steps: 500/782  |  Train Loss: 0.734  |  Validation Loss: 75.723  |  Validation Accuracy: 66.86\n"
     ]
    },
    {
     "name": "stderr",
     "output_type": "stream",
     "text": [
      " 96%|█████████▋| 754/782 [00:44<00:06,  4.24it/s]"
     ]
    },
    {
     "name": "stdout",
     "output_type": "stream",
     "text": [
      "Epoch: 18/30  |  Steps: 750/782  |  Train Loss: 1.104  |  Validation Loss: 74.327  |  Validation Accuracy: 67.36\n"
     ]
    },
    {
     "name": "stderr",
     "output_type": "stream",
     "text": [
      "100%|██████████| 782/782 [00:45<00:00, 17.04it/s]\n",
      " 32%|███▏      | 254/782 [00:15<02:19,  3.79it/s]"
     ]
    },
    {
     "name": "stdout",
     "output_type": "stream",
     "text": [
      "Epoch: 19/30  |  Steps: 250/782  |  Train Loss: 0.367  |  Validation Loss: 74.531  |  Validation Accuracy: 67.92\n"
     ]
    },
    {
     "name": "stderr",
     "output_type": "stream",
     "text": [
      " 64%|██████▍   | 504/782 [00:29<01:04,  4.30it/s]"
     ]
    },
    {
     "name": "stdout",
     "output_type": "stream",
     "text": [
      "Epoch: 19/30  |  Steps: 500/782  |  Train Loss: 0.730  |  Validation Loss: 75.035  |  Validation Accuracy: 67.73\n"
     ]
    },
    {
     "name": "stderr",
     "output_type": "stream",
     "text": [
      " 96%|█████████▋| 753/782 [00:43<00:06,  4.32it/s]"
     ]
    },
    {
     "name": "stdout",
     "output_type": "stream",
     "text": [
      "Epoch: 19/30  |  Steps: 750/782  |  Train Loss: 1.095  |  Validation Loss: 74.616  |  Validation Accuracy: 67.54\n"
     ]
    },
    {
     "name": "stderr",
     "output_type": "stream",
     "text": [
      "100%|██████████| 782/782 [00:45<00:00, 17.15it/s]\n",
      " 32%|███▏      | 253/782 [00:14<02:12,  4.00it/s]"
     ]
    },
    {
     "name": "stdout",
     "output_type": "stream",
     "text": [
      "Epoch: 20/30  |  Steps: 250/782  |  Train Loss: 0.365  |  Validation Loss: 76.733  |  Validation Accuracy: 66.74\n"
     ]
    },
    {
     "name": "stderr",
     "output_type": "stream",
     "text": [
      " 64%|██████▍   | 503/782 [00:29<01:04,  4.29it/s]"
     ]
    },
    {
     "name": "stdout",
     "output_type": "stream",
     "text": [
      "Epoch: 20/30  |  Steps: 500/782  |  Train Loss: 0.728  |  Validation Loss: 71.713  |  Validation Accuracy: 69.01\n"
     ]
    },
    {
     "name": "stderr",
     "output_type": "stream",
     "text": [
      " 96%|█████████▋| 754/782 [00:43<00:06,  4.33it/s]"
     ]
    },
    {
     "name": "stdout",
     "output_type": "stream",
     "text": [
      "Epoch: 20/30  |  Steps: 750/782  |  Train Loss: 1.092  |  Validation Loss: 72.133  |  Validation Accuracy: 68.72\n"
     ]
    },
    {
     "name": "stderr",
     "output_type": "stream",
     "text": [
      "100%|██████████| 782/782 [00:45<00:00, 17.19it/s]\n",
      " 32%|███▏      | 253/782 [00:14<01:59,  4.43it/s]"
     ]
    },
    {
     "name": "stdout",
     "output_type": "stream",
     "text": [
      "Epoch: 21/30  |  Steps: 250/782  |  Train Loss: 0.363  |  Validation Loss: 70.530  |  Validation Accuracy: 69.46\n"
     ]
    },
    {
     "name": "stderr",
     "output_type": "stream",
     "text": [
      " 64%|██████▍   | 502/782 [00:28<01:24,  3.32it/s]"
     ]
    },
    {
     "name": "stdout",
     "output_type": "stream",
     "text": [
      "Epoch: 21/30  |  Steps: 500/782  |  Train Loss: 0.722  |  Validation Loss: 74.396  |  Validation Accuracy: 67.22\n"
     ]
    },
    {
     "name": "stderr",
     "output_type": "stream",
     "text": [
      " 96%|█████████▋| 754/782 [00:42<00:06,  4.36it/s]"
     ]
    },
    {
     "name": "stdout",
     "output_type": "stream",
     "text": [
      "Epoch: 21/30  |  Steps: 750/782  |  Train Loss: 1.083  |  Validation Loss: 71.516  |  Validation Accuracy: 69.11\n"
     ]
    },
    {
     "name": "stderr",
     "output_type": "stream",
     "text": [
      "100%|██████████| 782/782 [00:44<00:00, 17.61it/s]\n",
      " 32%|███▏      | 253/782 [00:14<02:12,  4.00it/s]"
     ]
    },
    {
     "name": "stdout",
     "output_type": "stream",
     "text": [
      "Epoch: 22/30  |  Steps: 250/782  |  Train Loss: 0.363  |  Validation Loss: 72.062  |  Validation Accuracy: 69.02\n"
     ]
    },
    {
     "name": "stderr",
     "output_type": "stream",
     "text": [
      " 64%|██████▍   | 504/782 [00:28<01:03,  4.38it/s]"
     ]
    },
    {
     "name": "stdout",
     "output_type": "stream",
     "text": [
      "Epoch: 22/30  |  Steps: 500/782  |  Train Loss: 0.723  |  Validation Loss: 73.558  |  Validation Accuracy: 67.83\n"
     ]
    },
    {
     "name": "stderr",
     "output_type": "stream",
     "text": [
      " 96%|█████████▋| 753/782 [00:42<00:06,  4.37it/s]"
     ]
    },
    {
     "name": "stdout",
     "output_type": "stream",
     "text": [
      "Epoch: 22/30  |  Steps: 750/782  |  Train Loss: 1.083  |  Validation Loss: 70.665  |  Validation Accuracy: 69.59\n"
     ]
    },
    {
     "name": "stderr",
     "output_type": "stream",
     "text": [
      "100%|██████████| 782/782 [00:44<00:00, 17.65it/s]\n",
      " 32%|███▏      | 254/782 [00:14<01:57,  4.49it/s]"
     ]
    },
    {
     "name": "stdout",
     "output_type": "stream",
     "text": [
      "Epoch: 23/30  |  Steps: 250/782  |  Train Loss: 0.356  |  Validation Loss: 73.660  |  Validation Accuracy: 68.89\n"
     ]
    },
    {
     "name": "stderr",
     "output_type": "stream",
     "text": [
      " 64%|██████▍   | 503/782 [00:28<01:03,  4.37it/s]"
     ]
    },
    {
     "name": "stdout",
     "output_type": "stream",
     "text": [
      "Epoch: 23/30  |  Steps: 500/782  |  Train Loss: 0.714  |  Validation Loss: 71.309  |  Validation Accuracy: 69.25\n"
     ]
    },
    {
     "name": "stderr",
     "output_type": "stream",
     "text": [
      " 96%|█████████▌| 752/782 [00:42<00:09,  3.31it/s]"
     ]
    },
    {
     "name": "stdout",
     "output_type": "stream",
     "text": [
      "Epoch: 23/30  |  Steps: 750/782  |  Train Loss: 1.074  |  Validation Loss: 71.071  |  Validation Accuracy: 69.48\n"
     ]
    },
    {
     "name": "stderr",
     "output_type": "stream",
     "text": [
      "100%|██████████| 782/782 [00:44<00:00, 17.77it/s]\n",
      " 32%|███▏      | 253/782 [00:14<02:00,  4.41it/s]"
     ]
    },
    {
     "name": "stdout",
     "output_type": "stream",
     "text": [
      "Epoch: 24/30  |  Steps: 250/782  |  Train Loss: 0.358  |  Validation Loss: 72.190  |  Validation Accuracy: 68.43\n"
     ]
    },
    {
     "name": "stderr",
     "output_type": "stream",
     "text": [
      " 64%|██████▍   | 504/782 [00:28<01:03,  4.36it/s]"
     ]
    },
    {
     "name": "stdout",
     "output_type": "stream",
     "text": [
      "Epoch: 24/30  |  Steps: 500/782  |  Train Loss: 0.716  |  Validation Loss: 71.700  |  Validation Accuracy: 68.77\n"
     ]
    },
    {
     "name": "stderr",
     "output_type": "stream",
     "text": [
      " 96%|█████████▋| 753/782 [00:43<00:06,  4.27it/s]"
     ]
    },
    {
     "name": "stdout",
     "output_type": "stream",
     "text": [
      "Epoch: 24/30  |  Steps: 750/782  |  Train Loss: 1.074  |  Validation Loss: 70.359  |  Validation Accuracy: 69.20\n"
     ]
    },
    {
     "name": "stderr",
     "output_type": "stream",
     "text": [
      "100%|██████████| 782/782 [00:44<00:00, 17.49it/s]\n",
      " 32%|███▏      | 253/782 [00:15<02:27,  3.60it/s]"
     ]
    },
    {
     "name": "stdout",
     "output_type": "stream",
     "text": [
      "Epoch: 25/30  |  Steps: 250/782  |  Train Loss: 0.356  |  Validation Loss: 70.976  |  Validation Accuracy: 69.15\n"
     ]
    },
    {
     "name": "stderr",
     "output_type": "stream",
     "text": [
      " 64%|██████▍   | 503/782 [00:30<01:14,  3.75it/s]"
     ]
    },
    {
     "name": "stdout",
     "output_type": "stream",
     "text": [
      "Epoch: 25/30  |  Steps: 500/782  |  Train Loss: 0.706  |  Validation Loss: 70.107  |  Validation Accuracy: 69.28\n"
     ]
    },
    {
     "name": "stderr",
     "output_type": "stream",
     "text": [
      " 96%|█████████▋| 754/782 [00:45<00:06,  4.03it/s]"
     ]
    },
    {
     "name": "stdout",
     "output_type": "stream",
     "text": [
      "Epoch: 25/30  |  Steps: 750/782  |  Train Loss: 1.059  |  Validation Loss: 69.845  |  Validation Accuracy: 69.78\n"
     ]
    },
    {
     "name": "stderr",
     "output_type": "stream",
     "text": [
      "100%|██████████| 782/782 [00:46<00:00, 16.67it/s]\n",
      " 32%|███▏      | 254/782 [00:15<02:06,  4.16it/s]"
     ]
    },
    {
     "name": "stdout",
     "output_type": "stream",
     "text": [
      "Epoch: 26/30  |  Steps: 250/782  |  Train Loss: 0.355  |  Validation Loss: 69.385  |  Validation Accuracy: 69.40\n"
     ]
    },
    {
     "name": "stderr",
     "output_type": "stream",
     "text": [
      " 64%|██████▍   | 503/782 [00:30<01:06,  4.18it/s]"
     ]
    },
    {
     "name": "stdout",
     "output_type": "stream",
     "text": [
      "Epoch: 26/30  |  Steps: 500/782  |  Train Loss: 0.708  |  Validation Loss: 73.488  |  Validation Accuracy: 67.89\n"
     ]
    },
    {
     "name": "stderr",
     "output_type": "stream",
     "text": [
      " 96%|█████████▌| 752/782 [00:44<00:09,  3.24it/s]"
     ]
    },
    {
     "name": "stdout",
     "output_type": "stream",
     "text": [
      "Epoch: 26/30  |  Steps: 750/782  |  Train Loss: 1.059  |  Validation Loss: 70.483  |  Validation Accuracy: 70.09\n"
     ]
    },
    {
     "name": "stderr",
     "output_type": "stream",
     "text": [
      "100%|██████████| 782/782 [00:46<00:00, 16.81it/s]\n",
      " 32%|███▏      | 254/782 [00:14<02:03,  4.28it/s]"
     ]
    },
    {
     "name": "stdout",
     "output_type": "stream",
     "text": [
      "Epoch: 27/30  |  Steps: 250/782  |  Train Loss: 0.351  |  Validation Loss: 71.043  |  Validation Accuracy: 69.66\n"
     ]
    },
    {
     "name": "stderr",
     "output_type": "stream",
     "text": [
      " 64%|██████▍   | 502/782 [00:29<01:26,  3.24it/s]"
     ]
    },
    {
     "name": "stdout",
     "output_type": "stream",
     "text": [
      "Epoch: 27/30  |  Steps: 500/782  |  Train Loss: 0.704  |  Validation Loss: 69.913  |  Validation Accuracy: 69.50\n"
     ]
    },
    {
     "name": "stderr",
     "output_type": "stream",
     "text": [
      " 96%|█████████▋| 754/782 [00:43<00:06,  4.32it/s]"
     ]
    },
    {
     "name": "stdout",
     "output_type": "stream",
     "text": [
      "Epoch: 27/30  |  Steps: 750/782  |  Train Loss: 1.056  |  Validation Loss: 69.654  |  Validation Accuracy: 69.73\n"
     ]
    },
    {
     "name": "stderr",
     "output_type": "stream",
     "text": [
      "100%|██████████| 782/782 [00:44<00:00, 17.38it/s]\n",
      " 32%|███▏      | 252/782 [00:14<02:42,  3.26it/s]"
     ]
    },
    {
     "name": "stdout",
     "output_type": "stream",
     "text": [
      "Epoch: 28/30  |  Steps: 250/782  |  Train Loss: 0.354  |  Validation Loss: 72.515  |  Validation Accuracy: 68.49\n"
     ]
    },
    {
     "name": "stderr",
     "output_type": "stream",
     "text": [
      " 64%|██████▍   | 504/782 [00:29<01:04,  4.32it/s]"
     ]
    },
    {
     "name": "stdout",
     "output_type": "stream",
     "text": [
      "Epoch: 28/30  |  Steps: 500/782  |  Train Loss: 0.699  |  Validation Loss: 69.223  |  Validation Accuracy: 69.78\n"
     ]
    },
    {
     "name": "stderr",
     "output_type": "stream",
     "text": [
      " 96%|█████████▋| 753/782 [00:43<00:06,  4.40it/s]"
     ]
    },
    {
     "name": "stdout",
     "output_type": "stream",
     "text": [
      "Epoch: 28/30  |  Steps: 750/782  |  Train Loss: 1.055  |  Validation Loss: 69.646  |  Validation Accuracy: 69.83\n"
     ]
    },
    {
     "name": "stderr",
     "output_type": "stream",
     "text": [
      "100%|██████████| 782/782 [00:44<00:00, 17.49it/s]\n",
      " 32%|███▏      | 252/782 [00:14<02:43,  3.24it/s]"
     ]
    },
    {
     "name": "stdout",
     "output_type": "stream",
     "text": [
      "Epoch: 29/30  |  Steps: 250/782  |  Train Loss: 0.346  |  Validation Loss: 70.961  |  Validation Accuracy: 70.03\n"
     ]
    },
    {
     "name": "stderr",
     "output_type": "stream",
     "text": [
      " 64%|██████▍   | 504/782 [00:28<01:04,  4.33it/s]"
     ]
    },
    {
     "name": "stdout",
     "output_type": "stream",
     "text": [
      "Epoch: 29/30  |  Steps: 500/782  |  Train Loss: 0.694  |  Validation Loss: 68.613  |  Validation Accuracy: 69.68\n"
     ]
    },
    {
     "name": "stderr",
     "output_type": "stream",
     "text": [
      " 96%|█████████▋| 753/782 [00:43<00:06,  4.35it/s]"
     ]
    },
    {
     "name": "stdout",
     "output_type": "stream",
     "text": [
      "Epoch: 29/30  |  Steps: 750/782  |  Train Loss: 1.050  |  Validation Loss: 69.785  |  Validation Accuracy: 69.48\n"
     ]
    },
    {
     "name": "stderr",
     "output_type": "stream",
     "text": [
      "100%|██████████| 782/782 [00:44<00:00, 17.54it/s]\n",
      " 32%|███▏      | 254/782 [00:14<02:00,  4.37it/s]"
     ]
    },
    {
     "name": "stdout",
     "output_type": "stream",
     "text": [
      "Epoch: 30/30  |  Steps: 250/782  |  Train Loss: 0.353  |  Validation Loss: 70.785  |  Validation Accuracy: 69.60\n"
     ]
    },
    {
     "name": "stderr",
     "output_type": "stream",
     "text": [
      " 64%|██████▍   | 503/782 [00:28<01:03,  4.40it/s]"
     ]
    },
    {
     "name": "stdout",
     "output_type": "stream",
     "text": [
      "Epoch: 30/30  |  Steps: 500/782  |  Train Loss: 0.701  |  Validation Loss: 69.239  |  Validation Accuracy: 69.69\n"
     ]
    },
    {
     "name": "stderr",
     "output_type": "stream",
     "text": [
      " 96%|█████████▌| 752/782 [00:43<00:09,  3.06it/s]"
     ]
    },
    {
     "name": "stdout",
     "output_type": "stream",
     "text": [
      "Epoch: 30/30  |  Steps: 750/782  |  Train Loss: 1.053  |  Validation Loss: 70.303  |  Validation Accuracy: 69.15\n"
     ]
    },
    {
     "name": "stderr",
     "output_type": "stream",
     "text": [
      "100%|██████████| 782/782 [00:44<00:00, 17.42it/s]\n"
     ]
    }
   ],
   "source": [
    "epochs = 30\n",
    "train_losses, valid_losses, print_every = [], [], 250\n",
    "_start = time.time()\n",
    "for e in range(epochs):\n",
    "    running_loss, steps = 0, 0 \n",
    "    for images, labels in tqdm(trainloader):\n",
    "        steps += 1\n",
    "        images, labels = images.to(device), labels.to(device) \n",
    "        \n",
    "        optimizer.zero_grad() \n",
    "        output = nnetwork.forward(images) \n",
    "        loss = criterion(output,labels) \n",
    "        loss.backward() \n",
    "        optimizer.step() \n",
    "        running_loss += loss.item()\n",
    "        \n",
    "        if steps % print_every == 0:\n",
    "\n",
    "            nnetwork.eval() \n",
    "            valid_loss, accuracy = 0, 0\n",
    "\n",
    "            with torch.no_grad():\n",
    "                running_valid_loss = 0\n",
    "                for images, labels in validloader:\n",
    "\n",
    "                    images, labels = images.to(device), labels.to(device) \n",
    "\n",
    "                    outputs = nnetwork.forward(images)\n",
    "                    valid_loss += criterion(outputs,labels)\n",
    "                    running_valid_loss += valid_loss.item()\n",
    "\n",
    "                    ps = torch.exp(outputs)\n",
    "                    top_p, top_class = ps.topk(1, dim=1)\n",
    "                    equals = top_class == labels.view(*top_class.shape)\n",
    "                    accuracy += torch.mean(equals.type(torch.FloatTensor))\n",
    "\n",
    "            train_losses.append(running_loss/len(trainloader))\n",
    "            valid_losses.append(running_valid_loss/len(validloader))\n",
    "\n",
    "            nnetwork.train() \n",
    "\n",
    "            model_path = pd.concat([model_path,pd.DataFrame([e+1,steps,running_loss/len(trainloader),running_valid_loss/len(validloader),100*accuracy.item()/len(validloader)],index=model_path.columns).T])\n",
    "            \n",
    "            print('Epoch: {}/{}  |  Steps: {}/{}  |  Train Loss: {:.3f}  |  Validation Loss: {:.3f}  |  Validation Accuracy: {:.2f}'.format(\n",
    "                  e+1,epochs,steps,len(trainloader),running_loss/len(trainloader),running_valid_loss/len(validloader),100*accuracy/len(validloader)))\n",
    "            \n",
    "            "
   ]
  },
  {
   "cell_type": "code",
   "execution_count": 15,
   "metadata": {},
   "outputs": [
    {
     "name": "stdout",
     "output_type": "stream",
     "text": [
      "Total search time: 0:22:43.304272\n"
     ]
    }
   ],
   "source": [
    "_end = time.time()\n",
    "print('Total search time: {}'.format(str(timedelta(seconds=_end-_start))))"
   ]
  },
  {
   "cell_type": "code",
   "execution_count": 16,
   "metadata": {},
   "outputs": [
    {
     "data": {
      "text/html": [
       "<div>\n",
       "<style scoped>\n",
       "    .dataframe tbody tr th:only-of-type {\n",
       "        vertical-align: middle;\n",
       "    }\n",
       "\n",
       "    .dataframe tbody tr th {\n",
       "        vertical-align: top;\n",
       "    }\n",
       "\n",
       "    .dataframe thead th {\n",
       "        text-align: right;\n",
       "    }\n",
       "</style>\n",
       "<table border=\"1\" class=\"dataframe\">\n",
       "  <thead>\n",
       "    <tr style=\"text-align: right;\">\n",
       "      <th></th>\n",
       "      <th>Epoch</th>\n",
       "      <th>Steps</th>\n",
       "      <th>Train Loss</th>\n",
       "      <th>Validation Loss</th>\n",
       "      <th>Validation Accuracy</th>\n",
       "    </tr>\n",
       "  </thead>\n",
       "  <tbody>\n",
       "    <tr>\n",
       "      <th>0</th>\n",
       "      <td>1.0</td>\n",
       "      <td>250.0</td>\n",
       "      <td>0.615311</td>\n",
       "      <td>136.331859</td>\n",
       "      <td>37.500000</td>\n",
       "    </tr>\n",
       "    <tr>\n",
       "      <th>0</th>\n",
       "      <td>1.0</td>\n",
       "      <td>500.0</td>\n",
       "      <td>1.165670</td>\n",
       "      <td>117.412489</td>\n",
       "      <td>45.501592</td>\n",
       "    </tr>\n",
       "    <tr>\n",
       "      <th>0</th>\n",
       "      <td>1.0</td>\n",
       "      <td>750.0</td>\n",
       "      <td>1.679780</td>\n",
       "      <td>111.527282</td>\n",
       "      <td>47.979697</td>\n",
       "    </tr>\n",
       "    <tr>\n",
       "      <th>0</th>\n",
       "      <td>2.0</td>\n",
       "      <td>250.0</td>\n",
       "      <td>0.496108</td>\n",
       "      <td>107.606334</td>\n",
       "      <td>49.900478</td>\n",
       "    </tr>\n",
       "    <tr>\n",
       "      <th>0</th>\n",
       "      <td>2.0</td>\n",
       "      <td>500.0</td>\n",
       "      <td>0.981267</td>\n",
       "      <td>106.851197</td>\n",
       "      <td>51.721736</td>\n",
       "    </tr>\n",
       "    <tr>\n",
       "      <th>...</th>\n",
       "      <td>...</td>\n",
       "      <td>...</td>\n",
       "      <td>...</td>\n",
       "      <td>...</td>\n",
       "      <td>...</td>\n",
       "    </tr>\n",
       "    <tr>\n",
       "      <th>0</th>\n",
       "      <td>29.0</td>\n",
       "      <td>500.0</td>\n",
       "      <td>0.693833</td>\n",
       "      <td>68.613444</td>\n",
       "      <td>69.675557</td>\n",
       "    </tr>\n",
       "    <tr>\n",
       "      <th>0</th>\n",
       "      <td>29.0</td>\n",
       "      <td>750.0</td>\n",
       "      <td>1.049960</td>\n",
       "      <td>69.784737</td>\n",
       "      <td>69.476513</td>\n",
       "    </tr>\n",
       "    <tr>\n",
       "      <th>0</th>\n",
       "      <td>30.0</td>\n",
       "      <td>250.0</td>\n",
       "      <td>0.353240</td>\n",
       "      <td>70.784642</td>\n",
       "      <td>69.595939</td>\n",
       "    </tr>\n",
       "    <tr>\n",
       "      <th>0</th>\n",
       "      <td>30.0</td>\n",
       "      <td>500.0</td>\n",
       "      <td>0.701173</td>\n",
       "      <td>69.239383</td>\n",
       "      <td>69.685510</td>\n",
       "    </tr>\n",
       "    <tr>\n",
       "      <th>0</th>\n",
       "      <td>30.0</td>\n",
       "      <td>750.0</td>\n",
       "      <td>1.052689</td>\n",
       "      <td>70.302507</td>\n",
       "      <td>69.148089</td>\n",
       "    </tr>\n",
       "  </tbody>\n",
       "</table>\n",
       "<p>90 rows × 5 columns</p>\n",
       "</div>"
      ],
      "text/plain": [
       "    Epoch  Steps  Train Loss  Validation Loss  Validation Accuracy\n",
       "0     1.0  250.0    0.615311       136.331859            37.500000\n",
       "0     1.0  500.0    1.165670       117.412489            45.501592\n",
       "0     1.0  750.0    1.679780       111.527282            47.979697\n",
       "0     2.0  250.0    0.496108       107.606334            49.900478\n",
       "0     2.0  500.0    0.981267       106.851197            51.721736\n",
       "..    ...    ...         ...              ...                  ...\n",
       "0    29.0  500.0    0.693833        68.613444            69.675557\n",
       "0    29.0  750.0    1.049960        69.784737            69.476513\n",
       "0    30.0  250.0    0.353240        70.784642            69.595939\n",
       "0    30.0  500.0    0.701173        69.239383            69.685510\n",
       "0    30.0  750.0    1.052689        70.302507            69.148089\n",
       "\n",
       "[90 rows x 5 columns]"
      ]
     },
     "execution_count": 16,
     "metadata": {},
     "output_type": "execute_result"
    }
   ],
   "source": [
    "model_path"
   ]
  },
  {
   "cell_type": "markdown",
   "metadata": {},
   "source": [
    "Below we can see the trajectory of the training and validation losses."
   ]
  },
  {
   "cell_type": "code",
   "execution_count": 17,
   "metadata": {},
   "outputs": [
    {
     "data": {
      "text/plain": [
       "<matplotlib.legend.Legend at 0x78f85b936aa0>"
      ]
     },
     "execution_count": 17,
     "metadata": {},
     "output_type": "execute_result"
    },
    {
     "data": {
      "image/png": "[encoded data removed]",
      "text/plain": [
       "<Figure size 640x480 with 1 Axes>"
      ]
     },
     "metadata": {},
     "output_type": "display_data"
    }
   ],
   "source": [
    "plt.plot(train_losses,label='Training Loss')\n",
    "plt.plot(valid_losses,label='Validation Loss')\n",
    "plt.legend(frameon=False)"
   ]
  },
  {
   "cell_type": "markdown",
   "metadata": {},
   "source": [
    "## Testing the model"
   ]
  },
  {
   "cell_type": "markdown",
   "metadata": {},
   "source": [
    "Now that the model has been trained, we can check one more time the performance on the validation set."
   ]
  },
  {
   "cell_type": "code",
   "execution_count": 18,
   "metadata": {},
   "outputs": [
    {
     "name": "stderr",
     "output_type": "stream",
     "text": [
      "100%|██████████| 157/157 [00:02<00:00, 57.38it/s]"
     ]
    },
    {
     "name": "stdout",
     "output_type": "stream",
     "text": [
      "Test Loss: 1.978   |   Test Accuracy: 70.33\n"
     ]
    },
    {
     "name": "stderr",
     "output_type": "stream",
     "text": [
      "\n"
     ]
    }
   ],
   "source": [
    "nnetwork.eval() \n",
    "test_losses, test_loss, accuracy = [], 0, 0\n",
    "\n",
    "with torch.no_grad():\n",
    "    for images, labels in tqdm(validloader):\n",
    "\n",
    "        images, labels = images.to(device), labels.to(device) \n",
    "\n",
    "        outputs = nnetwork.forward(images)\n",
    "        test_loss += criterion(outputs,labels)\n",
    "\n",
    "        ps = torch.exp(outputs)\n",
    "        top_p, top_class = ps.topk(1, dim=1)\n",
    "        equals = top_class == labels.view(*top_class.shape)\n",
    "        accuracy += torch.mean(equals.type(torch.FloatTensor))\n",
    "\n",
    "        test_losses.append(test_loss/len(validloader))\n",
    "\n",
    "print('Test Loss: {:.3f}   |   Test Accuracy: {:.2f}'.format(test_loss/sum(test_losses),100*accuracy/len(validloader)))"
   ]
  },
  {
   "cell_type": "markdown",
   "metadata": {},
   "source": [
    "## Saving your model\n",
    "Using `torch.save`, save your model for future loading."
   ]
  },
  {
   "cell_type": "code",
   "execution_count": 20,
   "metadata": {},
   "outputs": [],
   "source": [
    "nnetwork.cpu()\n",
    "checkpoint_model = {'state_dict': nnetwork.state_dict(),'model_path': model_path}\n",
    "torch.save(checkpoint_model,'cifar10_model.pth')"
   ]
  },
  {
   "cell_type": "markdown",
   "metadata": {},
   "source": [
    "## My Recommendation"
   ]
  },
  {
   "cell_type": "markdown",
   "metadata": {},
   "source": [
    "Given the constraint of the project, and that with a relatively simple model in approximately 22 minutes we achieved a superior accuracy score on our validation data, I would suggest that with more fine tuning and potentially a deeper model we are better off building it in-house. \n",
    "\n",
    "Also, we could consider using a pretrained model but I assumed the constraint of the project didn't allow for such a warm start.\n",
    "\n",
    "In comparison to the literature obviously we are underperforming. However, this model trained on GPU for approximately 22 minutes and achieved results not too dissimilar to the first paper linked. Few things to try:\n",
    "- make the image larger to capture more details\n",
    "- make the convolutional side of the network deep (as this will likely add more improvements than the linear side given its capacity to capture more complex relationships in the data)\n",
    "- increase the number of epochs"
   ]
  },
  {
   "cell_type": "markdown",
   "metadata": {},
   "source": [
    "## Submit Your Project\n",
    "\n",
    "When you are finished editing the notebook and are ready to turn it in, simply click the **SUBMIT PROJECT** button in the lower right.\n",
    "\n",
    "Once you submit your project, we'll review your work and give you feedback if there's anything that you need to work on. If you'd like to see the exact points that your reviewer will check for when looking at your work, you can have a look over the project [rubric](https://review.udacity.com/#!/rubrics/3077/view)."
   ]
  }
 ],
 "metadata": {
  "kernelspec": {
   "display_name": "Python 3 (ipykernel)",
   "language": "python",
   "name": "python3"
  },
  "language_info": {
   "codemirror_mode": {
    "name": "ipython",
    "version": 3
   },
   "file_extension": ".py",
   "mimetype": "text/x-python",
   "name": "python",
   "nbconvert_exporter": "python",
   "pygments_lexer": "ipython3",
   "version": "3.9.13"
  }
 },
 "nbformat": 4,
 "nbformat_minor": 4
}
